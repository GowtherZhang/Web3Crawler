{
 "cells": [
  {
   "cell_type": "code",
   "execution_count": 19,
   "metadata": {},
   "outputs": [],
   "source": [
    "from urllib.error import URLError\n",
    "from urllib.request import ProxyHandler, build_opener\n",
    "import urllib.request"
   ]
  },
  {
   "cell_type": "code",
   "execution_count": 20,
   "metadata": {},
   "outputs": [
    {
     "name": "stdout",
     "output_type": "stream",
     "text": [
      "{\n",
      "  \"args\": {}, \n",
      "  \"headers\": {\n",
      "    \"Accept-Encoding\": \"identity\", \n",
      "    \"Host\": \"httpbin.org\", \n",
      "    \"User-Agent\": \"Python-urllib/3.10\", \n",
      "    \"X-Amzn-Trace-Id\": \"Root=1-65540e0d-72ed83e15aaf25e97b9921e4\", \n",
      "    \"X-Proxy-Id\": \"547588636\"\n",
      "  }, \n",
      "  \"origin\": \"61.173.33.151, 12.88.29.66\", \n",
      "  \"url\": \"http://httpbin.org/get\"\n",
      "}\n",
      "\n"
     ]
    }
   ],
   "source": [
    "proxy = '12.88.29.66:9080'\n",
    "\n",
    "# proxy = 'username:password@12.88.29.66:9080' # 如果遇到需要认证的代理，需要在代理前面加上代理认证的用户名密码\n",
    "\n",
    "proxy_handler = ProxyHandler({\n",
    "    'http':'http://' + proxy,\n",
    "    'https':'https://' + proxy\n",
    "})\n",
    "\n",
    "opener = build_opener(proxy_handler)\n",
    "try:\n",
    "    response = opener.open('http://httpbin.org/get')\n",
    "    print(response.read().decode('utf-8'))\n",
    "except URLError as e:\n",
    "    print(e.reason)"
   ]
  },
  {
   "cell_type": "code",
   "execution_count": 31,
   "metadata": {},
   "outputs": [
    {
     "name": "stdout",
     "output_type": "stream",
     "text": [
      "{\n",
      "  \"args\": {}, \n",
      "  \"headers\": {\n",
      "    \"Accept-Encoding\": \"identity\", \n",
      "    \"Host\": \"httpbin.org\", \n",
      "    \"User-Agent\": \"Python-urllib/3.10\", \n",
      "    \"X-Amzn-Trace-Id\": \"Root=1-6554cbf6-568b8f632324291b0c5332c1\"\n",
      "  }, \n",
      "  \"origin\": \"45.61.188.134\", \n",
      "  \"url\": \"http://httpbin.org/get\"\n",
      "}\n",
      "\n"
     ]
    }
   ],
   "source": [
    "import socks\n",
    "import socket\n",
    "from urllib import request\n",
    "from urllib.error import URLError\n",
    "\n",
    "\n",
    "socks.set_default_proxy(socks.SOCKS5, '45.61.188.134', 44499)\n",
    "socket.socket = socks.socksocket\n",
    "\n",
    "try:\n",
    "    response = request.urlopen('http://httpbin.org/get')\n",
    "    print(response.read().decode('utf-8'))\n",
    "except URLError as e:\n",
    "    print(e.reason)"
   ]
  },
  {
   "cell_type": "code",
   "execution_count": 35,
   "metadata": {},
   "outputs": [
    {
     "name": "stdout",
     "output_type": "stream",
     "text": [
      "{\n",
      "  \"args\": {}, \n",
      "  \"headers\": {\n",
      "    \"Accept\": \"*/*\", \n",
      "    \"Accept-Encoding\": \"gzip, deflate\", \n",
      "    \"Host\": \"httpbin.org\", \n",
      "    \"User-Agent\": \"python-requests/2.28.1\", \n",
      "    \"X-Amzn-Trace-Id\": \"Root=1-6554ce35-4bcb5c40793c683867d2a036\"\n",
      "  }, \n",
      "  \"origin\": \"68.208.221.162\", \n",
      "  \"url\": \"http://httpbin.org/get\"\n",
      "}\n",
      "\n"
     ]
    }
   ],
   "source": [
    "import requests\n",
    "\n",
    "proxy = '68.208.221.179:80'\n",
    "\n",
    "# proxy = 'username:password@12.88.29.66:9080' # 如果遇到需要认证的代理，需要在代理前面加上代理认证的用户名密码\n",
    "\n",
    "proxies = {\n",
    "    'http':'http://' + proxy,\n",
    "    'https':'https://' + proxy\n",
    "}\n",
    "\n",
    "try:\n",
    "    response = requests.get('http://httpbin.org/get', proxies=proxies)\n",
    "    print(response.text)\n",
    "except requests.exceptions.ConnectionError as e:\n",
    "    print(e.args)"
   ]
  },
  {
   "cell_type": "code",
   "execution_count": 37,
   "metadata": {},
   "outputs": [
    {
     "name": "stdout",
     "output_type": "stream",
     "text": [
      "{\n",
      "  \"args\": {}, \n",
      "  \"headers\": {\n",
      "    \"Accept\": \"*/*\", \n",
      "    \"Accept-Encoding\": \"gzip, deflate\", \n",
      "    \"Host\": \"httpbin.org\", \n",
      "    \"User-Agent\": \"python-requests/2.28.1\", \n",
      "    \"X-Amzn-Trace-Id\": \"Root=1-6554cf27-39228c4648a451432c3b40f5\"\n",
      "  }, \n",
      "  \"origin\": \"72.210.221.197\", \n",
      "  \"url\": \"http://httpbin.org/get\"\n",
      "}\n",
      "\n"
     ]
    }
   ],
   "source": [
    "import requests\n",
    "\n",
    "proxy = '72.210.221.197:4145'\n",
    "\n",
    "# proxy = 'username:password@12.88.29.66:9080' # 如果遇到需要认证的代理，需要在代理前面加上代理认证的用户名密码\n",
    "\n",
    "proxies = {\n",
    "    'http':'socks5://' + proxy,\n",
    "    'https':'socks5://' + proxy\n",
    "}\n",
    "\n",
    "try:\n",
    "    response = requests.get('http://httpbin.org/get', proxies=proxies)\n",
    "    print(response.text)\n",
    "except requests.exceptions.ConnectionError as e:\n",
    "    print(e.args)"
   ]
  },
  {
   "cell_type": "code",
   "execution_count": 15,
   "metadata": {},
   "outputs": [
    {
     "name": "stderr",
     "output_type": "stream",
     "text": [
      "C:\\Users\\18098\\AppData\\Local\\Temp\\ipykernel_16792\\2151793888.py:7: DeprecationWarning: use options instead of chrome_options\n",
      "  browser = webdriver.Chrome(chrome_options=chrome_options)\n"
     ]
    },
    {
     "name": "stdout",
     "output_type": "stream",
     "text": [
      "http://httpbin.org/get\n",
      "<html><head><meta name=\"color-scheme\" content=\"light dark\"></head><body><pre style=\"word-wrap: break-word; white-space: pre-wrap;\">{\n",
      "  \"args\": {}, \n",
      "  \"headers\": {\n",
      "    \"Accept\": \"text/html,application/xhtml+xml,application/xml;q=0.9,image/avif,image/webp,image/apng,*/*;q=0.8,application/signed-exchange;v=b3;q=0.7\", \n",
      "    \"Accept-Encoding\": \"gzip, deflate\", \n",
      "    \"Host\": \"httpbin.org\", \n",
      "    \"Upgrade-Insecure-Requests\": \"1\", \n",
      "    \"User-Agent\": \"Mozilla/5.0 (Windows NT 10.0; Win64; x64) AppleWebKit/537.36 (KHTML, like Gecko) HeadlessChrome/119.0.6045.124 Safari/537.36\", \n",
      "    \"X-Amzn-Trace-Id\": \"Root=1-6554db9e-7c3af38e341616130eceb799\"\n",
      "  }, \n",
      "  \"origin\": \"209.126.6.159\", \n",
      "  \"url\": \"http://httpbin.org/get\"\n",
      "}\n",
      "</pre></body></html>\n"
     ]
    }
   ],
   "source": [
    "from selenium import webdriver\n",
    "\n",
    "proxy = '209.126.6.159:80'\n",
    "chrome_options = webdriver.ChromeOptions()\n",
    "chrome_options.add_argument('--proxy-server=http://' + proxy)\n",
    "chrome_options.add_argument('--headless')\n",
    "browser = webdriver.Chrome(chrome_options=chrome_options)\n",
    "browser.get('http://httpbin.org/get')\n",
    "browser.implicitly_wait(10)\n",
    "print(browser.current_url)\n",
    "print(browser.page_source)\n",
    "browser.close()"
   ]
  },
  {
   "cell_type": "code",
   "execution_count": 12,
   "metadata": {},
   "outputs": [
    {
     "name": "stderr",
     "output_type": "stream",
     "text": [
      "C:\\Users\\18098\\AppData\\Local\\Temp\\ipykernel_16792\\1922469608.py:6: DeprecationWarning: use options instead of chrome_options\n",
      "  browser = webdriver.Chrome(chrome_options=chrome_options)\n"
     ]
    },
    {
     "name": "stdout",
     "output_type": "stream",
     "text": [
      "http://httpbin.org/get\n",
      "<html><head><meta name=\"color-scheme\" content=\"light dark\"></head><body><pre style=\"word-wrap: break-word; white-space: pre-wrap;\">{\n",
      "  \"args\": {}, \n",
      "  \"headers\": {\n",
      "    \"Accept\": \"text/html,application/xhtml+xml,application/xml;q=0.9,image/avif,image/webp,image/apng,*/*;q=0.8,application/signed-exchange;v=b3;q=0.7\", \n",
      "    \"Accept-Encoding\": \"gzip, deflate\", \n",
      "    \"Accept-Language\": \"zh-CN,zh;q=0.9\", \n",
      "    \"Host\": \"httpbin.org\", \n",
      "    \"Upgrade-Insecure-Requests\": \"1\", \n",
      "    \"User-Agent\": \"Mozilla/5.0 (Windows NT 10.0; Win64; x64) AppleWebKit/537.36 (KHTML, like Gecko) Chrome/119.0.0.0 Safari/537.36\", \n",
      "    \"X-Amzn-Trace-Id\": \"Root=1-6554db03-1236b1582953748f5ec32ca5\"\n",
      "  }, \n",
      "  \"origin\": \"209.126.6.159\", \n",
      "  \"url\": \"http://httpbin.org/get\"\n",
      "}\n",
      "</pre></body></html>\n"
     ]
    }
   ],
   "source": [
    "from selenium import webdriver\n",
    "\n",
    "proxy = '209.126.6.159:80'\n",
    "chrome_options = webdriver.ChromeOptions()\n",
    "chrome_options.add_argument('--proxy-server=http://' + proxy)\n",
    "browser = webdriver.Chrome(chrome_options=chrome_options)\n",
    "browser.get('http://httpbin.org/get')\n",
    "print(browser.current_url)\n",
    "print(browser.page_source)\n",
    "browser.close()"
   ]
  }
 ],
 "metadata": {
  "kernelspec": {
   "display_name": "Python 3",
   "language": "python",
   "name": "python3"
  },
  "language_info": {
   "codemirror_mode": {
    "name": "ipython",
    "version": 3
   },
   "file_extension": ".py",
   "mimetype": "text/x-python",
   "name": "python",
   "nbconvert_exporter": "python",
   "pygments_lexer": "ipython3",
   "version": "3.10.0"
  }
 },
 "nbformat": 4,
 "nbformat_minor": 2
}
