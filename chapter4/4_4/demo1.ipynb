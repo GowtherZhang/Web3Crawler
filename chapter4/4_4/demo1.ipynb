{
 "cells": [
  {
   "cell_type": "code",
   "execution_count": null,
   "metadata": {},
   "outputs": [],
   "source": [
    "import pymysql"
   ]
  },
  {
   "cell_type": "code",
   "execution_count": null,
   "metadata": {},
   "outputs": [],
   "source": [
    "db = pymysql.connect(host='localhost',user='root',password='123456',port=3306)\n",
    "cursor = db.cursor()\n",
    "cursor.execute('select version()')\n",
    "data = cursor.fetchone()\n",
    "data"
   ]
  },
  {
   "cell_type": "code",
   "execution_count": null,
   "metadata": {},
   "outputs": [],
   "source": [
    "cursor.execute('create database spiders default character set utf8mb4')\n",
    "db.close()"
   ]
  },
  {
   "cell_type": "code",
   "execution_count": null,
   "metadata": {},
   "outputs": [],
   "source": [
    "db = pymysql.connect(host='localhost',user='root',password='123456',port=3306,db='spiders')\n",
    "cursor = db.cursor()"
   ]
  },
  {
   "cell_type": "code",
   "execution_count": null,
   "metadata": {},
   "outputs": [],
   "source": [
    "sql = 'create table students (id varchar(50), name varchar(50), age int)'\n",
    "cursor.execute(sql)\n",
    "db.close()"
   ]
  },
  {
   "cell_type": "code",
   "execution_count": null,
   "metadata": {},
   "outputs": [],
   "source": [
    "db = pymysql.connect(host='localhost',user='root',password='123456',port=3306,db='spiders')\n",
    "cursor = db.cursor()\n",
    "id = '20230617'\n",
    "name = 'Gowther'\n",
    "age = 21\n",
    "\n",
    "sql = 'insert into students values(%s, %s, %s);'\n",
    "\n",
    "try:\n",
    "    cursor.execute(sql,(id, name, age))\n",
    "    db.commit()\n",
    "except:\n",
    "    db.rollback()\n",
    "\n",
    "# sql = 'select * from students;'\n",
    "# cursor.execute(sql)\n",
    "# print(cursor.fetchone())\n",
    "db.close()\n"
   ]
  },
  {
   "cell_type": "code",
   "execution_count": null,
   "metadata": {},
   "outputs": [],
   "source": [
    "id = '20230617'\n",
    "name = 'Gowther'\n",
    "age = 21\n",
    "\n",
    "sql = 'insert into students values(%ss, %ss, %ss);'\n",
    "print(sql.format(id, name, age))"
   ]
  },
  {
   "cell_type": "code",
   "execution_count": 35,
   "metadata": {},
   "outputs": [
    {
     "name": "stdout",
     "output_type": "stream",
     "text": [
      "Successful\n",
      "Successful\n",
      "Successful\n"
     ]
    }
   ],
   "source": [
    "db = pymysql.connect(host='localhost',user='root',password='123456',port=3306,db='spiders')\n",
    "cursor = db.cursor()\n",
    "data = [{'id':'202001', 'name' : 'Jack', 'age' : 1},\n",
    "        {'id':'202002', 'name' : 'holf', 'age' : 2},\n",
    "        {'id':'202003', 'name' : 'Julie', 'age' : 1},]\n",
    "\n",
    "for i in data:\n",
    "    table = 'students'\n",
    "    keys = ','.join(i.keys())\n",
    "    values = ','.join(['%s'] * len(i))\n",
    "    sql = 'insert into {}({}) values({})'.format(table, keys, values)\n",
    "    try:\n",
    "        if cursor.execute(sql, tuple(i.values())):\n",
    "            print('Successful')\n",
    "            db.commit()\n",
    "    except:\n",
    "        print('Failed')\n",
    "        db.rollback()\n",
    "db.close()"
   ]
  },
  {
   "cell_type": "code",
   "execution_count": 37,
   "metadata": {},
   "outputs": [
    {
     "name": "stdout",
     "output_type": "stream",
     "text": [
      "(('20230613', 'Gowhter', 21), ('20230617', 'Gowther', 21), ('202002', 'holf', 2))\n"
     ]
    }
   ],
   "source": [
    "db = pymysql.connect(host='localhost',user='root',password='123456',port=3306,db='spiders')\n",
    "cursor = db.cursor()\n",
    "sql = 'select * from students where age > 1'\n",
    "cursor.execute(sql)\n",
    "data = cursor.fetchall()\n",
    "print(data)"
   ]
  },
  {
   "cell_type": "code",
   "execution_count": 42,
   "metadata": {},
   "outputs": [
    {
     "name": "stdout",
     "output_type": "stream",
     "text": [
      "count: 3\n",
      "Row: ('20230613', 'Gowhter', 21)\n",
      "Row: ('20230617', 'Gowther', 21)\n",
      "Row: ('202002', 'holf', 2)\n"
     ]
    }
   ],
   "source": [
    "db = pymysql.connect(host='localhost',user='root',password='123456',port=3306,db='spiders')\n",
    "cursor = db.cursor()\n",
    "sql = 'select * from students where age > 1;'\n",
    "\n",
    "try:\n",
    "    cursor.execute(sql)\n",
    "    print('count:',cursor.rowcount)\n",
    "\n",
    "    row = cursor.fetchone()\n",
    "\n",
    "    while row:\n",
    "        print('Row:',row)\n",
    "        row = cursor.fetchone()\n",
    "except:\n",
    "    print('Error')"
   ]
  },
  {
   "cell_type": "code",
   "execution_count": null,
   "metadata": {},
   "outputs": [],
   "source": []
  }
 ],
 "metadata": {
  "kernelspec": {
   "display_name": "Python 3",
   "language": "python",
   "name": "python3"
  },
  "language_info": {
   "codemirror_mode": {
    "name": "ipython",
    "version": 3
   },
   "file_extension": ".py",
   "mimetype": "text/x-python",
   "name": "python",
   "nbconvert_exporter": "python",
   "pygments_lexer": "ipython3",
   "version": "3.10.0"
  },
  "orig_nbformat": 4
 },
 "nbformat": 4,
 "nbformat_minor": 2
}
